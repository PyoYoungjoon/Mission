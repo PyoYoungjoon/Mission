{
 "cells": [
  {
   "cell_type": "code",
   "execution_count": null,
   "metadata": {},
   "outputs": [],
   "source": [
    "!conda update -n base -c conda-forge conda\n",
    "!conda install -y bedtools bioawk samtools"
   ]
  },
  {
   "cell_type": "code",
   "execution_count": null,
   "metadata": {},
   "outputs": [],
   "source": [
    "!mamba install sra-tools -c conda-forge -c bioconda"
   ]
  },
  {
   "cell_type": "code",
   "execution_count": null,
   "metadata": {},
   "outputs": [],
   "source": [
    "!wget -O /rna/youngjoon/proj/bioinfo/SRR458758.sra https://sra-pub-run-odp.s3.amazonaws.com/sra/SRR458758/SRR458758\n",
    "!wget -O /rna/youngjoon/proj/bioinfo/SRR458759.sra https://sra-pub-run-odp.s3.amazonaws.com/sra/SRR458759/SRR458759\n",
    "!wget -O /rna/youngjoon/proj/bioinfo/SRR458760.sra https://sra-pub-run-odp.s3.amazonaws.com/sra/SRR458760/SRR458760\n"
   ]
  },
  {
   "cell_type": "code",
   "execution_count": null,
   "metadata": {},
   "outputs": [],
   "source": [
    "!fastq-dump --gzip SRR458758\n",
    "!fastq-dump --gzip SRR458759\n",
    "!fastq-dump --gzip SRR458760"
   ]
  },
  {
   "cell_type": "code",
   "execution_count": null,
   "metadata": {},
   "outputs": [],
   "source": [
    "!wget -O /rna/youngjoon/proj/bioinfo/GRCm39.fa.gz https://hgdownload.soe.ucsc.edu/goldenPath/mm39/bigZips/mm39.fa.gz\n"
   ]
  },
  {
   "cell_type": "code",
   "execution_count": null,
   "metadata": {},
   "outputs": [],
   "source": [
    "!gunzip /rna/youngjoon/proj/bioinfo/GRCm39.fa.gz\n",
    "\n",
    "!mamba install -c bioconda hisat2 \n",
    "!hisat2-build /rna/youngjoon/proj/bioinfo/GRCm39.fa GRCm39_index"
   ]
  },
  {
   "cell_type": "code",
   "execution_count": null,
   "metadata": {},
   "outputs": [],
   "source": [
    "!hisat2 -p 16 -x /rna/youngjoon/proj/bioinfo/GRCm39_index -U /rna/youngjoon/proj/bioinfo/CLIP-2J3.fq -S CLIP-2J3.sam\n",
    "!hisat2 -p 16 -x /rna/youngjoon/proj/bioinfo/GRCm39_index -U /rna/youngjoon/proj/bioinfo/CLIP-polyclonal.fq.gz -S CLIP-polyclonal.sam\n",
    "!hisat2 -p 16 -x /rna/youngjoon/proj/bioinfo/GRCm39_index -U /rna/youngjoon/proj/bioinfo/CLIP-35L33G.fq.gz -S CLIP-35L33G-h.sam"
   ]
  },
  {
   "cell_type": "code",
   "execution_count": null,
   "metadata": {},
   "outputs": [],
   "source": [
    "!snap.avx2 -D .. -d GRCm39 -c gencode --gunzip -t 20 --force-single-end -A sam -m 0.1 ../CLIP-2J3.fq > CLIP-2J3-g.sam\n",
    "!snap.avx2 -D .. -d GRCm39 -c gencode --gunzip -t 20 --force-single-end -A sam -m 0.1 ../CLIP-polyclonal.fq.gz > CLIP-polyclonal-g.sam"
   ]
  },
  {
   "cell_type": "code",
   "execution_count": 5,
   "metadata": {},
   "outputs": [],
   "source": [
    "!samtools view -bS CLIP-2J3.sam > CLIP-2J3.bam\n",
    "!samtools view -bS CLIP-polyclonal.sam > CLIP-polyclonal.bam\n",
    "!samtools view -bS CLIP-35L33G-h.sam > CLIP-35L33G-h.bam"
   ]
  },
  {
   "cell_type": "code",
   "execution_count": null,
   "metadata": {},
   "outputs": [],
   "source": [
    "!samtools sort CLIP-2J3.bam -o sorted_CLIP-2J3.bam\n",
    "!samtools sort CLIP-polyclonal.bam -o sorted_CLIP-polyclonal.bam\n",
    "!samtools sort CLIP-35L33G-h.bam -o sorted_CLIP-35L33G-h.bam"
   ]
  },
  {
   "cell_type": "code",
   "execution_count": 7,
   "metadata": {},
   "outputs": [],
   "source": [
    "!samtools index sorted_CLIP-2J3.bam\n",
    "!samtools index sorted_CLIP-polyclonal.bam\n",
    "!samtools index sorted_CLIP-35L33G-h.bam"
   ]
  },
  {
   "cell_type": "code",
   "execution_count": null,
   "metadata": {},
   "outputs": [],
   "source": [
    "!samtools view -b -o CLIP-let7g-2J3.bam sorted_CLIP-2J3.bam chr9:106056039-106056126\n",
    "!samtools view CLIP-let7g-2J3.bam | wc -l\n",
    "!samtools view -b -o CLIP-let7f_1-2J3.bam sorted_CLIP-2J3.bam chr13:48691305-48691393\n",
    "!samtools view CLIP-let7f_1-2J3.bam | wc -l\n",
    "!samtools view -b -o CLIP-let7d-2J3.bam sorted_CLIP-2J3.bam chr13:48689488-48689590\n",
    "!samtools view CLIP-let7d-2J3.bam | wc -l\n",
    "\n",
    "!samtools view -b -o CLIP-let7g-polyclonal.bam sorted_CLIP-polyclonal.bam chr9:106056039-106056126\n",
    "!samtools view CLIP-let7g-polyclonal.bam | wc -l\n",
    "!samtools view -b -o CLIP-let7f_1-polyclonal.bam sorted_CLIP-polyclonal.bam chr13:48691305-48691393\n",
    "!samtools view CLIP-let7f_1-polyclonal.bam | wc -l\n",
    "!samtools view -b -o CLIP-let7d-polyclonal.bam sorted_CLIP-polyclonal.bam chr13:48689488-48689590\n",
    "!samtools view CLIP-let7d-polyclonal.bam | wc -l\n",
    "\n",
    "!samtools view -b -o CLIP-let7g-35L33G-h.bam sorted_CLIP-35L33G-h.bam chr9:106056039-106056126\n",
    "!samtools view CLIP-let7g-35L33G-h.bam | wc -l\n",
    "!samtools view -b -o CLIP-let7f_1-35L33G-h.bam sorted_CLIP-35L33G-h.bam chr13:48691305-48691393\n",
    "!samtools view CLIP-let7f_1-35L33G-h.bam | wc -l\n",
    "!samtools view -b -o CLIP-let7d-35L33G-h.bam sorted_CLIP-35L33G-h.bam chr13:48689488-48689590\n",
    "!samtools view CLIP-let7d-35L33G-h.bam | wc -l\n"
   ]
  },
  {
   "cell_type": "code",
   "execution_count": null,
   "metadata": {},
   "outputs": [],
   "source": [
    "!samtools mpileup CLIP-let7g-2J3.bam > CLIP-let7g-2J3.pileup\n",
    "!wc -l CLIP-let7g-2J3.pileup\n",
    "!samtools mpileup CLIP-let7f_1-2J3.bam > CLIP-let7f_1-2J3.pileup\n",
    "!wc -l CLIP-let7f_1-2J3.pileup\n",
    "!samtools mpileup CLIP-let7d-2J3.bam > CLIP-let7d-2J3.pileup\n",
    "!wc -l CLIP-let7d-2J3.pileup\n",
    "\n",
    "\n",
    "!samtools mpileup CLIP-let7g-polyclonal.bam > CLIP-let7g-polyclonal.pileup\n",
    "!wc -l CLIP-let7g-polyclonal.pileup\n",
    "!samtools mpileup CLIP-let7f_1-polyclonal.bam > CLIP-let7f_1-polyclonal.pileup\n",
    "!wc -l CLIP-let7f_1-polyclonal.pileup\n",
    "!samtools mpileup CLIP-let7d-polyclonal.bam > CLIP-let7d-polyclonal.pileup\n",
    "!wc -l CLIP-let7d-polyclonal.pileup\n",
    "\n",
    "!samtools mpileup CLIP-let7g-35L33G-h.bam > CLIP-let7g-35L33G-h.pileup\n",
    "!wc -l CLIP-let7g-35L33G-h.pileup\n",
    "!samtools mpileup CLIP-let7f_1-35L33G-h.bam > CLIP-let7f_1-35L33G-h.pileup\n",
    "!wc -l CLIP-let7f_1-35L33G-h.pileup\n",
    "!samtools mpileup CLIP-let7d-35L33G-h.bam > CLIP-let7d-35L33G-h.pileup\n",
    "!wc -l CLIP-let7d-35L33G-h.pileup"
   ]
  },
  {
   "cell_type": "code",
   "execution_count": 24,
   "metadata": {},
   "outputs": [],
   "source": [
    "!awk '$2 >= 106056039 && $2 <= 106056126 { print $0; }' CLIP-let7g-2J3.pileup > CLIP-let7g-2J3-gene.pileup\n",
    "!awk '$2 >= 48691305 && $2 <= 48691393 { print $0; }' CLIP-let7f_1-2J3.pileup > CLIP-let7f_1-2J3-gene.pileup\n",
    "!awk '$2 >= 48689488 && $2 <= 48689590 { print $0; }' CLIP-let7d-2J3.pileup > CLIP-let7d-2J3-gene.pileup\n",
    "\n",
    "!awk '$2 >= 106056039 && $2 <= 106056126 { print $0; }' CLIP-let7g-polyclonal.pileup > CLIP-let7g-polyclonal-gene.pileup\n",
    "!awk '$2 >= 48691305 && $2 <= 48691393 { print $0; }' CLIP-let7f_1-polyclonal.pileup > CLIP-let7f_1-polyclonal-gene.pileup\n",
    "!awk '$2 >= 48689488 && $2 <= 48689590 { print $0; }' CLIP-let7d-polyclonal.pileup > CLIP-let7d-polyclonal-gene.pileup\n",
    "\n",
    "!awk '$2 >= 106056039 && $2 <= 106056126 { print $0; }' CLIP-let7g-35L33G-h.pileup > CLIP-let7g-35L33G-h-gene.pileup\n",
    "!awk '$2 >= 48691305 && $2 <= 48691393 { print $0; }' CLIP-let7f_1-35L33G-h.pileup > CLIP-let7f_1-35L33G-h-gene.pileup\n",
    "!awk '$2 >= 48689488 && $2 <= 48689590 { print $0; }' CLIP-let7d-35L33G-h.pileup > CLIP-let7d-35L33G-h-gene.pileup"
   ]
  },
  {
   "cell_type": "code",
   "execution_count": 25,
   "metadata": {},
   "outputs": [],
   "source": [
    "import pandas as pd\n",
    "\n",
    "pileup_let7g_2J3 = pd.read_csv('CLIP-let7g-2J3-gene.pileup', sep='\\t', names=['chrom', 'pos', '_ref', 'count', 'basereads', 'quals'])\n",
    "pileup_let7f_1_2J3 = pd.read_csv('CLIP-let7f_1-2J3-gene.pileup', sep='\\t', names=['chrom', 'pos', '_ref', 'count', 'basereads', 'quals'])\n",
    "pileup_let7d_2J3 = pd.read_csv('CLIP-let7d-2J3-gene.pileup', sep='\\t', names=['chrom', 'pos', '_ref', 'count', 'basereads', 'quals'])\n",
    "\n",
    "pileup_let7g_polyclonal = pd.read_csv('CLIP-let7g-polyclonal-gene.pileup', sep='\\t', names=['chrom', 'pos', '_ref', 'count', 'basereads', 'quals'])\n",
    "pileup_let7f_1_polyclonal = pd.read_csv('CLIP-let7f_1-polyclonal-gene.pileup', sep='\\t', names=['chrom', 'pos', '_ref', 'count', 'basereads', 'quals'])\n",
    "pileup_let7d_polyclonal = pd.read_csv('CLIP-let7d-polyclonal-gene.pileup', sep='\\t', names=['chrom', 'pos', '_ref', 'count', 'basereads', 'quals'])\n",
    "\n",
    "pileup_let7g_35L33G_h = pd.read_csv('CLIP-let7g-35L33G-h-gene.pileup', sep='\\t', names=['chrom', 'pos', '_ref', 'count', 'basereads', 'quals'])\n",
    "pileup_let7f_1_35L33G_h = pd.read_csv('CLIP-let7f_1-35L33G-h-gene.pileup', sep='\\t', names=['chrom', 'pos', '_ref', 'count', 'basereads', 'quals'])\n",
    "pileup_let7d_35L33G_h = pd.read_csv('CLIP-let7d-35L33G-h-gene.pileup', sep='\\t', names=['chrom', 'pos', '_ref', 'count', 'basereads', 'quals'])"
   ]
  },
  {
   "cell_type": "code",
   "execution_count": 26,
   "metadata": {},
   "outputs": [],
   "source": [
    "import re\n",
    "toremove = re.compile('[<>$*#^]')\n",
    "pileup_let7g_2J3['matches'] = pileup_let7g_2J3['basereads'].apply(lambda x: toremove.sub('', x))\n",
    "pileup_let7f_1_2J3['matches'] = pileup_let7f_1_2J3['basereads'].apply(lambda x: toremove.sub('', x))\n",
    "pileup_let7d_2J3['matches'] = pileup_let7d_2J3['basereads'].apply(lambda x: toremove.sub('', x))\n",
    "\n",
    "\n",
    "pileup_let7g_polyclonal['matches'] = pileup_let7g_polyclonal['basereads'].apply(lambda x: toremove.sub('', x))\n",
    "pileup_let7f_1_polyclonal['matches'] = pileup_let7f_1_polyclonal['basereads'].apply(lambda x: toremove.sub('', x))\n",
    "pileup_let7d_polyclonal['matches'] = pileup_let7d_polyclonal['basereads'].apply(lambda x: toremove.sub('', x))\n",
    "\n",
    "pileup_let7g_35L33G_h['matches'] = pileup_let7g_35L33G_h['basereads'].apply(lambda x: toremove.sub('', x))\n",
    "pileup_let7f_1_35L33G_h['matches'] = pileup_let7f_1_35L33G_h['basereads'].apply(lambda x: toremove.sub('', x))\n",
    "pileup_let7d_35L33G_h['matches'] = pileup_let7d_35L33G_h['basereads'].apply(lambda x: toremove.sub('', x))"
   ]
  },
  {
   "cell_type": "markdown",
   "metadata": {},
   "source": [
    "35L33G Antibody로 잡아서 sequencing 했을 때의 Mirlet7g gene 내에서의 error rate 분석"
   ]
  },
  {
   "cell_type": "code",
   "execution_count": 5,
   "metadata": {},
   "outputs": [],
   "source": [
    "import pandas as pd\n",
    "import numpy as np\n",
    "from collections import Counter\n",
    "\n",
    "bed_Mirlet7g_35L33G_h= pileup_let7g_35L33G_h[['chrom', 'pos']].copy()\n",
    "bed_Mirlet7g_35L33G_h.columns = ['chr', 'start_position']\n",
    "bed_Mirlet7g_35L33G_h['end_position'] = bed_Mirlet7g_35L33G_h['start_position']+1\n",
    "\n",
    "\n",
    "def calculate_entropy(row):\n",
    "    bases = ['A', 'T', 'C', 'G']\n",
    "    entropy = 0\n",
    "    count_dict = Counter(row)\n",
    "    for base in bases:\n",
    "        count = count_dict.get(base, 0)\n",
    "        total = sum(count_dict.values())\n",
    "        p = count / total if total > 0 else 0\n",
    "        if p > 0:\n",
    "            entropy -= p * np.log2(p)\n",
    "    return entropy\n",
    "\n",
    "bed_Mirlet7g_35L33G_h['entropy'] = pileup_let7g_35L33G_h['matches'].str.upper().apply(calculate_entropy).copy()\n",
    "bed_Mirlet7g_35L33G_h.to_csv('Mirlet7g_35L33G_h.bedgraph', sep='\\t', header=False, index=False)\n"
   ]
  },
  {
   "cell_type": "markdown",
   "metadata": {},
   "source": [
    "35L33G Antibody로 잡아서 sequencing 했을 때의 Mirlet7f_1 gene 내에서의 error rate 분석"
   ]
  },
  {
   "cell_type": "code",
   "execution_count": 6,
   "metadata": {},
   "outputs": [],
   "source": [
    "import pandas as pd\n",
    "import numpy as np\n",
    "from collections import Counter\n",
    "\n",
    "bed_Mirlet7f_1_35L33G_h= pileup_let7f_1_35L33G_h[['chrom', 'pos']].copy()\n",
    "bed_Mirlet7f_1_35L33G_h.columns = ['chr', 'start_position']\n",
    "bed_Mirlet7f_1_35L33G_h['end_position'] = bed_Mirlet7f_1_35L33G_h['start_position']+1\n",
    "\n",
    "\n",
    "def calculate_entropy(row):\n",
    "    bases = ['A', 'T', 'C', 'G']\n",
    "    entropy = 0\n",
    "    count_dict = Counter(row)\n",
    "    for base in bases:\n",
    "        count = count_dict.get(base, 0)\n",
    "        total = sum(count_dict.values())\n",
    "        p = count / total if total > 0 else 0\n",
    "        if p > 0:\n",
    "            entropy -= p * np.log2(p)\n",
    "    return entropy\n",
    "\n",
    "bed_Mirlet7f_1_35L33G_h['entropy'] = pileup_let7f_1_35L33G_h['matches'].str.upper().apply(calculate_entropy).copy()\n",
    "bed_Mirlet7f_1_35L33G_h.to_csv('Mirlet7f_1_35L33G_h.bedgraph', sep='\\t', header=False, index=False)"
   ]
  },
  {
   "cell_type": "markdown",
   "metadata": {},
   "source": [
    "35L33G Antibody로 잡아서 sequencing 했을 때의 Mirlet7d gene 내에서의 error rate 분석"
   ]
  },
  {
   "cell_type": "code",
   "execution_count": null,
   "metadata": {},
   "outputs": [],
   "source": [
    "import pandas as pd\n",
    "import numpy as np\n",
    "from collections import Counter\n",
    "\n",
    "bed_Mirlet7d_35L33G_h= pileup_let7d_35L33G_h[['chrom', 'pos']].copy()\n",
    "bed_Mirlet7d_35L33G_h.columns = ['chr', 'start_position']\n",
    "bed_Mirlet7d_35L33G_h['end_position'] = bed_Mirlet7d_35L33G_h['start_position']+1\n",
    "\n",
    "\n",
    "def calculate_entropy(row):\n",
    "    bases = ['A', 'T', 'C', 'G']\n",
    "    entropy = 0\n",
    "    count_dict = Counter(row)\n",
    "    for base in bases:\n",
    "        count = count_dict.get(base, 0)\n",
    "        total = sum(count_dict.values())\n",
    "        p = count / total if total > 0 else 0\n",
    "        if p > 0:\n",
    "            entropy -= p * np.log2(p)\n",
    "    return entropy\n",
    "\n",
    "bed_Mirlet7d_35L33G_h['entropy'] = pileup_let7d_35L33G_h['matches'].str.upper().apply(calculate_entropy).copy()\n",
    "bed_Mirlet7d_35L33G_h.to_csv('Mirlet7d_35L33G_h.bedgraph', sep='\\t', header=False, index=False)"
   ]
  },
  {
   "cell_type": "markdown",
   "metadata": {},
   "source": [
    "2J3 Antibody로 잡아서 sequencing 했을 때의 Mirlet7g gene 내에서의 error rate 분석"
   ]
  },
  {
   "cell_type": "code",
   "execution_count": 15,
   "metadata": {},
   "outputs": [],
   "source": [
    "import pandas as pd\n",
    "import numpy as np\n",
    "from collections import Counter\n",
    "\n",
    "bed_Mirlet7g_2J3= pileup_let7g_2J3[['chrom', 'pos']].copy()\n",
    "bed_Mirlet7g_2J3.columns = ['chr', 'start_position']\n",
    "bed_Mirlet7g_2J3['end_position'] = bed_Mirlet7g_2J3['start_position']+1\n",
    "\n",
    "\n",
    "\n",
    "def calculate_entropy(row):\n",
    "    bases = ['A', 'T', 'C', 'G']\n",
    "    entropy = 0\n",
    "    count_dict = Counter(row)\n",
    "    for base in bases:\n",
    "        count = count_dict.get(base, 0)\n",
    "        total = sum(count_dict.values())\n",
    "        p = count / total if total > 0 else 0\n",
    "        if p > 0:\n",
    "            entropy -= p * np.log2(p)\n",
    "    return entropy\n",
    "\n",
    "bed_Mirlet7g_2J3['entropy'] = pileup_let7g_2J3['matches'].str.upper().apply(calculate_entropy).copy()\n",
    "bed_Mirlet7g_2J3.to_csv('Mirlet7g_2J3.bedgraph', sep='\\t', header=False, index=False)\n"
   ]
  },
  {
   "cell_type": "markdown",
   "metadata": {},
   "source": [
    "2J3 Antibody로 잡아서 sequencing 했을 때의 Mirlet7d gene 내에서의 error rate 분석"
   ]
  },
  {
   "cell_type": "code",
   "execution_count": 27,
   "metadata": {},
   "outputs": [],
   "source": [
    "bed_Mirlet7d_2J3= pileup_let7d_2J3[['chrom', 'pos']].copy()\n",
    "bed_Mirlet7d_2J3.columns = ['chr', 'start_position']\n",
    "bed_Mirlet7d_2J3['end_position'] = bed_Mirlet7d_2J3['start_position']+1\n",
    "\n",
    "\n",
    "\n",
    "def calculate_entropy(row):\n",
    "    bases = ['A', 'T', 'C', 'G']\n",
    "    entropy = 0\n",
    "    count_dict = Counter(row)\n",
    "    for base in bases:\n",
    "        count = count_dict.get(base, 0)\n",
    "        total = sum(count_dict.values())\n",
    "        p = count / total if total > 0 else 0\n",
    "        if p > 0:\n",
    "            entropy -= p * np.log2(p)\n",
    "    return entropy\n",
    "\n",
    "bed_Mirlet7d_2J3['entropy'] = pileup_let7d_2J3['matches'].str.upper().apply(calculate_entropy).copy()\n",
    "bed_Mirlet7d_2J3.to_csv('Mirlet7d_2J3.bedgraph', sep='\\t', header=False, index=False)\n"
   ]
  },
  {
   "cell_type": "markdown",
   "metadata": {},
   "source": [
    "2J3 Antibody로 잡아서 sequencing 했을 때의 Mirlet7f_1 gene 내에서의 error rate 분석"
   ]
  },
  {
   "cell_type": "code",
   "execution_count": 28,
   "metadata": {},
   "outputs": [],
   "source": [
    "bed_Mirlet7f_1_2J3= pileup_let7f_1_2J3[['chrom', 'pos']].copy()\n",
    "bed_Mirlet7f_1_2J3.columns = ['chr', 'start_position']\n",
    "bed_Mirlet7f_1_2J3['end_position'] = bed_Mirlet7f_1_2J3['start_position']+1\n",
    "\n",
    "\n",
    "\n",
    "def calculate_entropy(row):\n",
    "    bases = ['A', 'T', 'C', 'G']\n",
    "    entropy = 0\n",
    "    count_dict = Counter(row)\n",
    "    for base in bases:\n",
    "        count = count_dict.get(base, 0)\n",
    "        total = sum(count_dict.values())\n",
    "        p = count / total if total > 0 else 0\n",
    "        if p > 0:\n",
    "            entropy -= p * np.log2(p)\n",
    "    return entropy\n",
    "\n",
    "bed_Mirlet7f_1_2J3['entropy'] = pileup_let7f_1_2J3['matches'].str.upper().apply(calculate_entropy).copy()\n",
    "bed_Mirlet7f_1_2J3.to_csv('Mirlet7f_1_2J3.bedgraph', sep='\\t', header=False, index=False)\n"
   ]
  },
  {
   "cell_type": "markdown",
   "metadata": {},
   "source": [
    "Polyclonal antibody로 잡아서 sequencing 했을 때의 Mirlet7g gene 내에서의 error rate 분석"
   ]
  },
  {
   "cell_type": "code",
   "execution_count": 18,
   "metadata": {},
   "outputs": [],
   "source": [
    "import pandas as pd\n",
    "import numpy as np\n",
    "from collections import Counter\n",
    "\n",
    "bed_Mirlet7g_polyclonal= pileup_let7g_polyclonal[['chrom', 'pos']].copy()\n",
    "bed_Mirlet7g_polyclonal.columns = ['chr', 'start_position']\n",
    "bed_Mirlet7g_polyclonal['end_position'] = bed_Mirlet7g_polyclonal['start_position']+1\n",
    "\n",
    "\n",
    "\n",
    "def calculate_entropy(row):\n",
    "    bases = ['A', 'T', 'C', 'G']\n",
    "    entropy = 0\n",
    "    count_dict = Counter(row)\n",
    "    for base in bases:\n",
    "        count = count_dict.get(base, 0)\n",
    "        total = sum(count_dict.values())\n",
    "        p = count / total if total > 0 else 0\n",
    "        if p > 0:\n",
    "            entropy -= p * np.log2(p)\n",
    "    return entropy\n",
    "\n",
    "bed_Mirlet7g_polyclonal['entropy'] = pileup_let7g_polyclonal['matches'].str.upper().apply(calculate_entropy).copy()\n",
    "bed_Mirlet7g_polyclonal.to_csv('Mirlet7g_polyclonal.bedgraph', sep='\\t', header=False, index=False)"
   ]
  },
  {
   "cell_type": "markdown",
   "metadata": {},
   "source": [
    "Polyclonal antibody로 잡아서 sequencing 했을 때의 Mirlet7d gene 내에서의 error rate 분석"
   ]
  },
  {
   "cell_type": "code",
   "execution_count": 30,
   "metadata": {},
   "outputs": [],
   "source": [
    "bed_Mirlet7d_polyclonal= pileup_let7d_polyclonal[['chrom', 'pos']].copy()\n",
    "bed_Mirlet7d_polyclonal.columns = ['chr', 'start_position']\n",
    "bed_Mirlet7d_polyclonal['end_position'] = bed_Mirlet7d_polyclonal['start_position']+1\n",
    "\n",
    "\n",
    "\n",
    "def calculate_entropy(row):\n",
    "    bases = ['A', 'T', 'C', 'G']\n",
    "    entropy = 0\n",
    "    count_dict = Counter(row)\n",
    "    for base in bases:\n",
    "        count = count_dict.get(base, 0)\n",
    "        total = sum(count_dict.values())\n",
    "        p = count / total if total > 0 else 0\n",
    "        if p > 0:\n",
    "            entropy -= p * np.log2(p)\n",
    "    return entropy\n",
    "\n",
    "bed_Mirlet7d_polyclonal['entropy'] = pileup_let7d_polyclonal['matches'].str.upper().apply(calculate_entropy).copy()\n",
    "bed_Mirlet7d_polyclonal.to_csv('Mirlet7d_polyclonal.bedgraph', sep='\\t', header=False, index=False)"
   ]
  },
  {
   "cell_type": "markdown",
   "metadata": {},
   "source": [
    "Polyclonal antibody로 잡아서 sequencing 했을 때의 Mirlet7f_1 gene 내에서의 error rate 분석"
   ]
  },
  {
   "cell_type": "code",
   "execution_count": 29,
   "metadata": {},
   "outputs": [],
   "source": [
    "bed_Mirlet7f_1_polyclonal= pileup_let7f_1_polyclonal[['chrom', 'pos']].copy()\n",
    "bed_Mirlet7f_1_polyclonal.columns = ['chr', 'start_position']\n",
    "bed_Mirlet7f_1_polyclonal['end_position'] = bed_Mirlet7f_1_polyclonal['start_position']+1\n",
    "\n",
    "\n",
    "\n",
    "def calculate_entropy(row):\n",
    "    bases = ['A', 'T', 'C', 'G']\n",
    "    entropy = 0\n",
    "    count_dict = Counter(row)\n",
    "    for base in bases:\n",
    "        count = count_dict.get(base, 0)\n",
    "        total = sum(count_dict.values())\n",
    "        p = count / total if total > 0 else 0\n",
    "        if p > 0:\n",
    "            entropy -= p * np.log2(p)\n",
    "    return entropy\n",
    "\n",
    "bed_Mirlet7f_1_polyclonal['entropy'] = pileup_let7f_1_polyclonal['matches'].str.upper().apply(calculate_entropy).copy()\n",
    "bed_Mirlet7f_1_polyclonal.to_csv('Mirlet7f_1_polyclonal.bedgraph', sep='\\t', header=False, index=False)"
   ]
  }
 ],
 "metadata": {
  "kernelspec": {
   "display_name": "tutorial",
   "language": "python",
   "name": "python3"
  },
  "language_info": {
   "codemirror_mode": {
    "name": "ipython",
    "version": 3
   },
   "file_extension": ".py",
   "mimetype": "text/x-python",
   "name": "python",
   "nbconvert_exporter": "python",
   "pygments_lexer": "ipython3",
   "version": "3.12.0"
  }
 },
 "nbformat": 4,
 "nbformat_minor": 2
}
