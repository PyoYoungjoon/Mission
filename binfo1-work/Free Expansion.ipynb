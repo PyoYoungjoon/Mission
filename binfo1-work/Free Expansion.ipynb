{
 "cells": [
  {
   "cell_type": "code",
   "execution_count": null,
   "metadata": {},
   "outputs": [],
   "source": [
    "!conda install -y bedtools bioawk samtools\n",
    "\n",
    "!samtools view -b -o CLIP-wholetranscript.bam ../binfo1-datapack1/CLIP-35L33G.bam"
   ]
  }
 ],
 "metadata": {
  "language_info": {
   "name": "python"
  }
 },
 "nbformat": 4,
 "nbformat_minor": 2
}
